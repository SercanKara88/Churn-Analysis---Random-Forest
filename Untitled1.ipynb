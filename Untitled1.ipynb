{
 "cells": [
  {
   "cell_type": "code",
   "execution_count": 2,
   "metadata": {},
   "outputs": [],
   "source": [
    "\n",
    "\n",
    "#################################################################\n",
    "##    Marketing analytics                                      ##\n",
    "##    Exercise in Segmentation AND Discriminant Analysis       ##\n",
    "##    Churn Data                                               ##\n",
    "#################################################################"
   ]
  },
  {
   "cell_type": "code",
   "execution_count": null,
   "metadata": {},
   "outputs": [],
   "source": [
    "#library(plyr)\n",
    "#library(readr)\n",
    "Churn_Modelling <- read_csv(\"dersler/5-Marketing Analytics/week 5/Churn_Modelling.csv\")\n",
    "View(Churn_Modelling)\n",
    "\n",
    "class(Churn_Modelling)\n",
    "str(Churn_Modelling)\n",
    "\n",
    "churn_data <- Churn_Modelling [4:14]\n",
    "churn_data"
   ]
  },
  {
   "cell_type": "code",
   "execution_count": null,
   "metadata": {},
   "outputs": [],
   "source": [
    "#Converting to Numeric Values\n",
    "churn_data$Gender <- revalue(churn_data$Gender, c(\"Male\"=0))\n",
    "churn_data$Gender <- revalue(churn_data$Gender, c(\"Female\"=1))\n",
    "\n",
    "churn_data$Geography <- revalue(churn_data$Geography, c(\"France\"=0))\n",
    "churn_data$Geography <- revalue(churn_data$Geography, c(\"Spain\"=1))\n",
    "churn_data$Geography <- revalue(churn_data$Geography, c(\"Germany\"=2))\n",
    "\n",
    "\n",
    "churn_data$Gender <- as.numeric(churn_data$Gender)\n",
    "churn_data$Geography <- as.numeric(churn_data$Geography)\n",
    "\n",
    "is.numeric(churn_data$Gender)\n",
    "is.numeric(churn_data$Geography)\n",
    "is.numeric(churn_data$CreditScore)\n",
    "is.numeric(churn_data$Age)\n",
    "is.numeric(churn_data$Tenure)\n",
    "is.numeric(churn_data$Balance)\n",
    "is.numeric(churn_data$NumOfProducts)\n",
    "is.numeric(churn_data$HasCrCard)\n",
    "is.numeric(churn_data$IsActiveMember)\n",
    "is.numeric(churn_data$EstimatedSalary)\n",
    "is.numeric(churn_data$Exited)\n"
   ]
  },
  {
   "cell_type": "code",
   "execution_count": null,
   "metadata": {},
   "outputs": [],
   "source": [
    "#Converting the features to factor as we are going to build a Classification Model\n",
    "\n",
    "churn_data$Gender <- as.factor(churn_data$Gender)\n",
    "churn_data$Geography <- as.factor(churn_data$Geography)\n",
    "churn_data$CreditScore <- as.factor(churn_data$CreditScore)\n",
    "churn_data$Age <- as.factor(churn_data$Age)\n",
    "churn_data$Tenure <- as.factor(churn_data$Tenure)\n",
    "churn_data$Balance <-as.factor(churn_data$Balance)\n",
    "churn_data$NumOfProducts <- as.factor(churn_data$NumOfProducts)\n",
    "churn_data$HasCrCard <- as.factor(churn_data$HasCrCard)\n",
    "churn_data$IsActiveMember <- as.factor(churn_data$IsActiveMember)\n",
    "churn_data$EstimatedSalary <- as.factor(churn_data$EstimatedSalary)\n",
    "churn_data$Exited <- as.factor(churn_data$Exited)\n",
    "\n",
    "#Checking the Class of the Features we might be using in our Model\n",
    "class(churn_data$Gender)\n",
    "class(churn_data$Geography)\n",
    "class(churn_data$CreditScore)\n",
    "class(churn_data$Age)\n",
    "class(churn_data$Tenure)\n",
    "class(churn_data$Balance)\n",
    "class(churn_data$NumOfProducts)\n",
    "class(churn_data$HasCrCard)\n",
    "class(churn_data$IsActiveMember)\n",
    "class(churn_data$EstimatedSalary)\n",
    "class(churn_data$Exited)\n"
   ]
  },
  {
   "cell_type": "code",
   "execution_count": null,
   "metadata": {},
   "outputs": [],
   "source": [
    "head(churn_data)"
   ]
  },
  {
   "cell_type": "code",
   "execution_count": null,
   "metadata": {},
   "outputs": [],
   "source": [
    "\n",
    "# Splitting the dataset into the Training set and Test set\n",
    "# install.packages('caTools')\n",
    "#library(caTools)\n",
    "#library(dummies)\n",
    "set.seed(123)\n",
    "split = sample.split(churn_data$CreditScore, SplitRatio = 0.75)\n",
    "training_set = subset(churn_data, split == TRUE)\n",
    "test_set = subset(churn_data, split == FALSE)\n",
    "\n",
    "head(training_set)\n",
    "head(test_set)"
   ]
  },
  {
   "cell_type": "code",
   "execution_count": null,
   "metadata": {},
   "outputs": [],
   "source": [
    "# Fitting Random Forest Classification to the Training set\n",
    "# install.packages('randomForest')\n",
    "#library(randomForest)\n",
    "\n",
    "\n",
    "set.seed(123)\n",
    "\n",
    "classifier = randomForest(formula = as.factor(Exited) ~ Gender + Geography + Tenure + NumOfProducts +\n",
    "                            HasCrCard + IsActiveMember, data = training_set, importance = TRUE, ntree=50)\n",
    "classifier\n",
    "\n",
    "summary(classifier)\n",
    "classifier\n",
    "\n",
    "\n",
    "#Test the predictions of the trained model\n",
    "testpredictions = predict(classifier, test_set, type =\"class\")\n",
    "testpredictions\n",
    "\n",
    "#Find the accuracy of the model\n",
    "cm =table(testpredictions, test_set$Exited)\n",
    "\n",
    "#Display the accuracy of the model in test data\n",
    "accuracy = (cm[1,1] + cm[2,2]) / (cm[1,1] + cm[2,2] + cm[1,2] + cm[2,1])\n",
    "print(accuracy)\n"
   ]
  }
 ],
 "metadata": {
  "kernelspec": {
   "display_name": "R",
   "language": "R",
   "name": "ir"
  },
  "language_info": {
   "codemirror_mode": "r",
   "file_extension": ".r",
   "mimetype": "text/x-r-source",
   "name": "R",
   "pygments_lexer": "r",
   "version": "3.5.1"
  }
 },
 "nbformat": 4,
 "nbformat_minor": 2
}
